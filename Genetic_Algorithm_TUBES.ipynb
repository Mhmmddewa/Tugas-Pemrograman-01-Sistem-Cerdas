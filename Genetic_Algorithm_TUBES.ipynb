{
  "nbformat": 4,
  "nbformat_minor": 0,
  "metadata": {
    "colab": {
      "name": "Genetic Algorithm TUBES.ipynb",
      "provenance": [],
      "collapsed_sections": []
    },
    "kernelspec": {
      "name": "python3",
      "display_name": "Python 3"
    },
    "language_info": {
      "name": "python"
    }
  },
  "cells": [
    {
      "cell_type": "code",
      "metadata": {
        "id": "WwPJsM8dyKWm"
      },
      "source": [
        "from tkinter import filedialog\n",
        "import matplotlib.pyplot as plt\n",
        "import pandas as pd\n",
        "from decimal import *\n",
        "import numpy as np\n",
        "import io\n",
        "import math\n",
        "import random\n",
        "import operator"
      ],
      "execution_count": null,
      "outputs": []
    },
    {
      "cell_type": "code",
      "metadata": {
        "colab": {
          "base_uri": "https://localhost:8080/"
        },
        "id": "BoRHVb9eyTWd",
        "outputId": "1509b03f-ead3-402e-f3a9-e5b6878b4bc1"
      },
      "source": [
        "from google.colab import drive\n",
        "drive.mount('/content/drive')"
      ],
      "execution_count": null,
      "outputs": [
        {
          "output_type": "stream",
          "text": [
            "Drive already mounted at /content/drive; to attempt to forcibly remount, call drive.mount(\"/content/drive\", force_remount=True).\n"
          ],
          "name": "stdout"
        }
      ]
    },
    {
      "cell_type": "code",
      "metadata": {
        "id": "mLhtQ4JwyVE5"
      },
      "source": [
        "df = pd.read_csv(\"/content/drive/MyDrive/BBNI.csv\")"
      ],
      "execution_count": null,
      "outputs": []
    },
    {
      "cell_type": "code",
      "metadata": {
        "id": "Nn30wNldzv3m"
      },
      "source": [
        "data = pd.DataFrame(df, columns = ['Date ;', 'open;', 'high;', 'close;', 'adj close;', 'colume'])"
      ],
      "execution_count": null,
      "outputs": []
    },
    {
      "cell_type": "code",
      "metadata": {
        "colab": {
          "base_uri": "https://localhost:8080/"
        },
        "id": "J6ZfXAGuyaBh",
        "outputId": "077e43d3-c411-4eb1-eb2f-2bc4e5b511e2"
      },
      "source": [
        "print('SAHAM : \\n')\n",
        "print(data)\n",
        "\n",
        "print('POPULASI : \\n')\n",
        "winSize = 4\n",
        "genSize = 10\n",
        "populasiSize = len(data)\n",
        "populasi = []\n",
        "\n",
        "for i in range(populasiSize):\n",
        "    individu = {}\n",
        "    for j in range(genSize):\n",
        "        individu['theta'+str(j)] = random.random()\n",
        "    populasi.append(individu)\n",
        "\n",
        "dataKoefsiensi = pd.DataFrame(list(populasi))\n",
        "print(dataKoefsiensi)"
      ],
      "execution_count": null,
      "outputs": [
        {
          "output_type": "stream",
          "text": [
            "SAHAM : \n",
            "\n",
            "        Date ;   open;   high;  close;  adj close;           colume\n",
            "0   2020-04-06  4060.0  4300.0  4290.0      4290.0   61479800;;;;;;\n",
            "1   2020-04-07  4490.0  4650.0  4310.0      4310.0   81628300;;;;;;\n",
            "2   2020-04-08  4200.0  4240.0  4010.0      4010.0   61532700;;;;;;\n",
            "3   2020-04-09  4100.0  4150.0  3990.0      3990.0   36659600;;;;;;\n",
            "4   2020-04-13  4000.0  4070.0  3990.0      3990.0   20521300;;;;;;\n",
            "..         ...     ...     ...     ...         ...              ...\n",
            "95  2020-09-01  5150.0  5175.0  5175.0      5175.0   54441900;;;;;;\n",
            "96  2020-09-02  5250.0  5275.0  5225.0      5225.0   46207400;;;;;;\n",
            "97  2020-09-03  5275.0  5375.0  5350.0      5350.0  133938600;;;;;;\n",
            "98  2020-09-04  5250.0  5250.0  5225.0      5225.0   94096000;;;;;;\n",
            "99  2020-09-07  5225.0  5275.0  5250.0      5250.0   40928200;;;;;;\n",
            "\n",
            "[100 rows x 6 columns]\n",
            "POPULASI : \n",
            "\n",
            "      theta0    theta1    theta2  ...    theta7    theta8    theta9\n",
            "0   0.653419  0.892769  0.379059  ...  0.902927  0.009785  0.178950\n",
            "1   0.102462  0.125410  0.562965  ...  0.277406  0.812601  0.033943\n",
            "2   0.360180  0.770923  0.937566  ...  0.581431  0.635103  0.146181\n",
            "3   0.596925  0.498314  0.002530  ...  0.107141  0.846648  0.945157\n",
            "4   0.033291  0.346100  0.290558  ...  0.681758  0.310227  0.536149\n",
            "..       ...       ...       ...  ...       ...       ...       ...\n",
            "95  0.997824  0.219942  0.157127  ...  0.523338  0.570312  0.329905\n",
            "96  0.833751  0.452899  0.156001  ...  0.872795  0.288181  0.602010\n",
            "97  0.886955  0.076464  0.083607  ...  0.499589  0.755421  0.192459\n",
            "98  0.731296  0.812424  0.075864  ...  0.777328  0.662782  0.599353\n",
            "99  0.359340  0.711202  0.575809  ...  0.421437  0.177402  0.491008\n",
            "\n",
            "[100 rows x 10 columns]\n"
          ],
          "name": "stdout"
        }
      ]
    },
    {
      "cell_type": "code",
      "metadata": {
        "colab": {
          "base_uri": "https://localhost:8080/"
        },
        "id": "pdOYAd1LycOL",
        "outputId": "f3be5192-b5fb-4a28-c744-e9fc653d530c"
      },
      "source": [
        "print('FITNESS: \\n')\n",
        "def MLR(idxInduvidu, hari1):\n",
        "    MLR = 0\n",
        "    harike = hari1\n",
        "\n",
        "    for i in range(winSize):\n",
        "        MLR = MLR + dataKoefsiensi.iat[idxInduvidu, i] * data.at[harike, 'open;']\n",
        "        harike += 1\n",
        "    \n",
        "    return MLR\n",
        "\n",
        "def RMSE(idxInduvidu):\n",
        "    panjang = len(dataKoefsiensi) - winSize\n",
        "    totalSqureEror = 0\n",
        "\n",
        "    for x in range(panjang):\n",
        "        totalSqureEror += np.power(MLR(idxInduvidu, x) - data.at[x+winSize, 'open;'], 2)\n",
        "    rmse = math.sqrt(totalSqureEror/len(dataKoefsiensi)-winSize)\n",
        "    return rmse\n",
        "\n",
        "fitness_individu = []\n",
        "panjang = len(dataKoefsiensi)\n",
        "\n",
        "for i in range(panjang):\n",
        "    fitness = 1 / (RMSE(i))\n",
        "    fitness_individu.append(fitness)\n",
        "\n",
        "defInduvidu = dataKoefsiensi.assign(fitness = fitness_individu)\n",
        "print(defInduvidu)"
      ],
      "execution_count": null,
      "outputs": [
        {
          "output_type": "stream",
          "text": [
            "FITNESS: \n",
            "\n",
            "      theta0    theta1    theta2  ...    theta8    theta9   fitness\n",
            "0   0.653419  0.892769  0.379059  ...  0.009785  0.178950  0.000154\n",
            "1   0.102462  0.125410  0.562965  ...  0.812601  0.033943  0.000603\n",
            "2   0.360180  0.770923  0.937566  ...  0.635103  0.146181  0.000206\n",
            "3   0.596925  0.498314  0.002530  ...  0.846648  0.945157  0.000220\n",
            "4   0.033291  0.346100  0.290558  ...  0.310227  0.536149  0.001326\n",
            "..       ...       ...       ...  ...       ...       ...       ...\n",
            "95  0.997824  0.219942  0.157127  ...  0.570312  0.329905  0.000380\n",
            "96  0.833751  0.452899  0.156001  ...  0.288181  0.602010  0.000331\n",
            "97  0.886955  0.076464  0.083607  ...  0.755421  0.192459  0.002976\n",
            "98  0.731296  0.812424  0.075864  ...  0.662782  0.599353  0.000345\n",
            "99  0.359340  0.711202  0.575809  ...  0.177402  0.491008  0.000152\n",
            "\n",
            "[100 rows x 11 columns]\n"
          ],
          "name": "stdout"
        }
      ]
    },
    {
      "cell_type": "code",
      "metadata": {
        "colab": {
          "base_uri": "https://localhost:8080/"
        },
        "id": "v3zmiq_9ymiH",
        "outputId": "f8246b39-e11e-4f98-e05e-fe9145ab2819"
      },
      "source": [
        "print('PROBABILITAS INDIVIDU    : \\n')\n",
        "tot_fitness = defInduvidu['fitness'].sum()\n",
        "prob = []\n",
        "\n",
        "for i in range(len(defInduvidu)):\n",
        "    nilai_prob = defInduvidu.at[i, 'fitness'] / tot_fitness\n",
        "    prob.append(nilai_prob)\n",
        "\n",
        "defInduvidu = defInduvidu.assign(probabilitas = prob)\n",
        "print(defInduvidu)"
      ],
      "execution_count": null,
      "outputs": [
        {
          "output_type": "stream",
          "text": [
            "PROBABILITAS INDIVIDU    : \n",
            "\n",
            "      theta0    theta1    theta2  ...    theta9   fitness  probabilitas\n",
            "0   0.653419  0.892769  0.379059  ...  0.178950  0.000154      0.004061\n",
            "1   0.102462  0.125410  0.562965  ...  0.033943  0.000603      0.015928\n",
            "2   0.360180  0.770923  0.937566  ...  0.146181  0.000206      0.005446\n",
            "3   0.596925  0.498314  0.002530  ...  0.945157  0.000220      0.005823\n",
            "4   0.033291  0.346100  0.290558  ...  0.536149  0.001326      0.035057\n",
            "..       ...       ...       ...  ...       ...       ...           ...\n",
            "95  0.997824  0.219942  0.157127  ...  0.329905  0.000380      0.010054\n",
            "96  0.833751  0.452899  0.156001  ...  0.602010  0.000331      0.008755\n",
            "97  0.886955  0.076464  0.083607  ...  0.192459  0.002976      0.078663\n",
            "98  0.731296  0.812424  0.075864  ...  0.599353  0.000345      0.009115\n",
            "99  0.359340  0.711202  0.575809  ...  0.491008  0.000152      0.004023\n",
            "\n",
            "[100 rows x 12 columns]\n"
          ],
          "name": "stdout"
        }
      ]
    },
    {
      "cell_type": "code",
      "metadata": {
        "colab": {
          "base_uri": "https://localhost:8080/"
        },
        "id": "RgpT1YPvyoy4",
        "outputId": "88044115-bb87-4a56-c5c4-0c75fe1b5f5e"
      },
      "source": [
        "print('MEMILIH INDIVIDU NEW GEN  : \\n')\n",
        "def select_individu(df_populasi):\n",
        "    rand = random.random()\n",
        "    temp_sum = 0\n",
        "\n",
        "    for i in range(len(df_populasi)):\n",
        "        temp_sum += df_populasi.at[i, 'probabilitas']\n",
        "\n",
        "        if temp_sum > rand:\n",
        "            return i\n",
        "\n",
        "selected = []\n",
        "\n",
        "for i in range(len(defInduvidu)):\n",
        "    select = select_individu(defInduvidu)\n",
        "    selected.append(select)\n",
        "\n",
        "listSelect = pd.Series(selected)\n",
        "\n",
        "newGen = []\n",
        "\n",
        "for i in range(len(listSelect)):\n",
        "    newGen.append(defInduvidu.iloc[listSelect[i]])\n",
        "\n",
        "newGen = pd.DataFrame(newGen).reset_index(drop=True)\n",
        "print(newGen)"
      ],
      "execution_count": null,
      "outputs": [
        {
          "output_type": "stream",
          "text": [
            "MEMILIH INDIVIDU NEW GEN  : \n",
            "\n",
            "      theta0    theta1    theta2  ...    theta9   fitness  probabilitas\n",
            "0   0.309969  0.913147  0.919596  ...  0.318110  0.000108      0.002862\n",
            "1   0.919555  0.412786  0.166173  ...  0.629480  0.000260      0.006872\n",
            "2   0.132635  0.299089  0.376989  ...  0.851855  0.003024      0.079942\n",
            "3   0.646581  0.237730  0.012016  ...  0.272910  0.002825      0.074671\n",
            "4   0.833751  0.452899  0.156001  ...  0.602010  0.000331      0.008755\n",
            "..       ...       ...       ...  ...       ...       ...           ...\n",
            "95  0.033291  0.346100  0.290558  ...  0.536149  0.001326      0.035057\n",
            "96  0.123186  0.343605  0.178686  ...  0.533307  0.000660      0.017453\n",
            "97  0.591154  0.842722  0.162143  ...  0.051703  0.000155      0.004096\n",
            "98  0.897971  0.823544  0.012505  ...  0.192861  0.000258      0.006823\n",
            "99  0.462462  0.305234  0.266084  ...  0.223435  0.000429      0.011345\n",
            "\n",
            "[100 rows x 12 columns]\n"
          ],
          "name": "stdout"
        }
      ]
    },
    {
      "cell_type": "code",
      "metadata": {
        "id": "848on1q_sflk"
      },
      "source": [
        "uk_tour = 5\n",
        "\n",
        "def tournamentSelection(df_popopulasi, uk_tour):\n",
        "    best_krom = []\n",
        "    for i in range(1, uk_tour):\n",
        "        krom = pop[random.randint(0,len(pop)-1)]\n",
        "        if (best_krom == [] or hitungFitness(krom) > hitungFitness(best_krom)):\n",
        "            best_krom = krom\n",
        "    return best_krom"
      ],
      "execution_count": null,
      "outputs": []
    },
    {
      "cell_type": "code",
      "metadata": {
        "colab": {
          "base_uri": "https://localhost:8080/"
        },
        "id": "BuLjiGGcyrRP",
        "outputId": "c0c54a95-4d07-4e92-bec9-b7850041db46"
      },
      "source": [
        "print('CROSSOVER    : \\n')\n",
        "list_offspring = []\n",
        "\n",
        "konstanta = 0.5\n",
        "cr = 0.5\n",
        "\n",
        "def crossover(p1, p2, list_offspring):\n",
        "\n",
        "    offspring1 = {}\n",
        "    for i in range(winSize+1):\n",
        "        offspring1['theta' + str(i)] = konstanta*p1.iat[i] + (1-konstanta)*p2.iat[i]\n",
        "        list_offspring.append(offspring1)\n",
        "\n",
        "    offspring2 = {}\n",
        "    for i in range(winSize+1):\n",
        "        offspring2['theta'+str(i)] = konstanta*p2.iat[i] + (1-konstanta)*p1.iat[i]\n",
        "        list_offspring.append(offspring2)\n",
        "\n",
        "sum_parent = int(len(newGen)*cr)\n",
        "\n",
        "for i in range(sum_parent):\n",
        "    if ((i+1)%2) ==1:\n",
        "        parent1 = newGen.iloc[i]\n",
        "    if ((i+1)%2)==0:\n",
        "        parent2 = newGen.iloc[i]\n",
        "        crossover(parent1, parent2, list_offspring)\n",
        "    \n",
        "anak = pd.DataFrame(list_offspring)\n",
        "\n",
        "newGen = newGen.drop('fitness', axis=1)\n",
        "newGen = newGen.drop('probabilitas', axis=1)\n",
        "newGen.update(anak)\n",
        "\n",
        "print(newGen)"
      ],
      "execution_count": null,
      "outputs": [
        {
          "output_type": "stream",
          "text": [
            "CROSSOVER    : \n",
            "\n",
            "      theta0    theta1    theta2  ...    theta7    theta8    theta9\n",
            "0   0.614762  0.662966  0.542884  ...  0.418753  0.139230  0.318110\n",
            "1   0.614762  0.662966  0.542884  ...  0.130684  0.985397  0.629480\n",
            "2   0.614762  0.662966  0.542884  ...  0.225573  0.296380  0.851855\n",
            "3   0.614762  0.662966  0.542884  ...  0.247692  0.813164  0.272910\n",
            "4   0.614762  0.662966  0.542884  ...  0.872795  0.288181  0.602010\n",
            "..       ...       ...       ...  ...       ...       ...       ...\n",
            "95  0.413512  0.500878  0.123901  ...  0.681758  0.310227  0.536149\n",
            "96  0.413512  0.500878  0.123901  ...  0.737160  0.080581  0.533307\n",
            "97  0.413512  0.500878  0.123901  ...  0.330749  0.170033  0.051703\n",
            "98  0.413512  0.500878  0.123901  ...  0.507390  0.617117  0.192861\n",
            "99  0.413512  0.500878  0.123901  ...  0.878782  0.555313  0.223435\n",
            "\n",
            "[100 rows x 10 columns]\n"
          ],
          "name": "stdout"
        }
      ]
    },
    {
      "cell_type": "code",
      "metadata": {
        "colab": {
          "base_uri": "https://localhost:8080/"
        },
        "id": "4gF4EKEZytjk",
        "outputId": "6c1f6662-09d9-4a33-da42-c52ac05d66e0"
      },
      "source": [
        "print('MUTASI DAN PERGANTIAN GENERASI BARU   : \\n.')\n",
        "mr = 0.8\n",
        "selected_mutant = int(populasiSize*mr)\n",
        "\n",
        "idxTerpilih = []\n",
        "for i in range(selected_mutant):\n",
        "    rand = random.randint(0, len(newGen)-1)\n",
        "    if (i) == 0:\n",
        "        idxTerpilih.append(rand)\n",
        "    else:\n",
        "        while rand in idxTerpilih:\n",
        "            rand = random.randint(0, len(newGen)-1)\n",
        "        idxTerpilih.append(rand)\n",
        "\n",
        "for i in range(len(idxTerpilih)):\n",
        "    igen_change = random.randint(0, genSize-1)\n",
        "\n",
        "    perubahanGenr = random.uniform(0.2, 1.2)\n",
        "\n",
        "    perubahanGen = newGen.iloc[idxTerpilih[i], igen_change] * perubahanGenr\n",
        "\n",
        "    newGen.iloc[idxTerpilih[i], igen_change] = perubahanGen\n",
        "\n",
        "print(newGen)"
      ],
      "execution_count": null,
      "outputs": [
        {
          "output_type": "stream",
          "text": [
            "MUTASI DAN PERGANTIAN GENERASI BARU   : \n",
            ".\n",
            "      theta0    theta1    theta2  ...    theta7    theta8    theta9\n",
            "0   0.614762  0.662966  0.542884  ...  0.230781  0.139230  0.318110\n",
            "1   0.614762  0.662966  0.169479  ...  0.130684  0.985397  0.629480\n",
            "2   0.614762  0.662966  0.542884  ...  0.225573  0.296380  0.851855\n",
            "3   0.614762  0.662966  0.542884  ...  0.247692  0.813164  0.272910\n",
            "4   0.614762  0.176586  0.542884  ...  0.872795  0.288181  0.602010\n",
            "..       ...       ...       ...  ...       ...       ...       ...\n",
            "95  0.413512  0.392478  0.123901  ...  0.681758  0.310227  0.536149\n",
            "96  0.413512  0.500878  0.123901  ...  0.737160  0.080581  0.533307\n",
            "97  0.413512  0.500878  0.123901  ...  0.330749  0.103730  0.051703\n",
            "98  0.413512  0.500878  0.123901  ...  0.507390  0.617117  0.192861\n",
            "99  0.413512  0.500878  0.123901  ...  0.966980  0.555313  0.223435\n",
            "\n",
            "[100 rows x 10 columns]\n"
          ],
          "name": "stdout"
        }
      ]
    },
    {
      "cell_type": "code",
      "metadata": {
        "colab": {
          "base_uri": "https://localhost:8080/"
        },
        "id": "6ne78SMJyv2V",
        "outputId": "b8f02b59-124a-417b-bf02-aa1563caffe2"
      },
      "source": [
        "print('UPDATE NEW GEN : \\n')\n",
        "fitness_individu = []\n",
        "\n",
        "panjang = len(dataKoefsiensi)\n",
        "\n",
        "for i in range(panjang):\n",
        "    fitness = 1/(RMSE(i))\n",
        "    fitness_individu.append(fitness)\n",
        "\n",
        "newGen = newGen.assign(fitness = fitness_individu)\n",
        "defInduvidu = defInduvidu.drop(['probabilitas'], axis=1)\n",
        "defInduvidu = defInduvidu.append(newGen)\n",
        "defInduvidu = defInduvidu.sort_values(by='fitness', ascending = 0).reset_index(drop=1)\n",
        "\n",
        "defInduvidu = defInduvidu[:populasiSize]\n",
        "print(defInduvidu)\n",
        "\n",
        "\n",
        "print('KROMOSOM TERBAIK : \\n')\n",
        "bestKromosom = {'THETA' : ['theta'+str(i) for i in range(genSize)],\n",
        "                 'NILAI' : [defInduvidu.at[0, 'theta'+str(j)] for j in range(genSize)]\n",
        "                }\n",
        "\n",
        "bk = pd.DataFrame(bestKromosom, columns=['THETA', 'NILAI'])\n",
        "print(bk)\n",
        "\n",
        "\n",
        "def fungsiFinal(bestKromosom):\n",
        "    harga = 0\n",
        "    idx = len(data)-1\n",
        "    dataHarga = pd.DataFrame(data, columns= ['open;'])\n",
        "    print(' \\n')\n",
        "    print('Harga Saham saat ini : \\n')\n",
        "    for i in range(genSize):\n",
        "        harga = harga + ( bk.iat[i,1] * data.at[idx-i, 'open;'] )\n",
        "    return harga\n",
        "\n",
        "print(fungsiFinal(bestKromosom))"
      ],
      "execution_count": null,
      "outputs": [
        {
          "output_type": "stream",
          "text": [
            "UPDATE NEW GEN : \n",
            "\n",
            "      theta0    theta1    theta2  ...    theta8    theta9   fitness\n",
            "0   0.132635  0.299089  0.376989  ...  0.296380  0.851855  0.003024\n",
            "1   0.638300  0.532061  0.578676  ...  0.455017  0.996406  0.003024\n",
            "2   0.886955  0.076464  0.083607  ...  0.755421  0.192459  0.002976\n",
            "3   0.413512  0.500878  0.123901  ...  0.103730  0.051703  0.002976\n",
            "4   0.892566  0.643973  0.403215  ...  0.043783  0.580943  0.002825\n",
            "..       ...       ...       ...  ...       ...       ...       ...\n",
            "95  0.457590  0.501923  0.230257  ...  0.296380  0.851855  0.000247\n",
            "96  0.560522  0.750572  0.352579  ...  0.468367  0.325252  0.000246\n",
            "97  0.892566  0.643973  0.403215  ...  0.604391  0.989568  0.000246\n",
            "98  0.892566  0.643973  0.423412  ...  0.306863  0.697412  0.000242\n",
            "99  0.580271  0.514746  0.271306  ...  0.246151  0.150542  0.000242\n",
            "\n",
            "[100 rows x 11 columns]\n",
            "KROMOSOM TERBAIK : \n",
            "\n",
            "    THETA     NILAI\n",
            "0  theta0  0.132635\n",
            "1  theta1  0.299089\n",
            "2  theta2  0.376989\n",
            "3  theta3  0.263197\n",
            "4  theta4  0.240576\n",
            "5  theta5  0.080609\n",
            "6  theta6  0.213287\n",
            "7  theta7  0.225573\n",
            "8  theta8  0.296380\n",
            "9  theta9  0.851855\n",
            " \n",
            "\n",
            "Harga Saham saat ini : \n",
            "\n",
            "15594.613560024787\n"
          ],
          "name": "stdout"
        }
      ]
    }
  ]
}